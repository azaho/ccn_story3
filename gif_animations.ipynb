{
 "cells": [
  {
   "cell_type": "code",
   "execution_count": 1,
   "id": "25196d25-d0c4-4c09-bfa3-022464093533",
   "metadata": {},
   "outputs": [],
   "source": [
    "import matplotlib.pyplot as plt\n",
    "import matplotlib.animation as animation\n",
    "import numpy as np"
   ]
  },
  {
   "cell_type": "code",
   "execution_count": 2,
   "id": "226c7a42-392f-42c2-a91e-ca355baebefb",
   "metadata": {},
   "outputs": [],
   "source": [
    "task_parameters = {'task_name': '2DIR1O',\n",
    " 'input_direction_units': 100,\n",
    " 'delay0_from': 10,\n",
    " 'delay0_to': 20,\n",
    " 'delay1_from': 10,\n",
    " 'delay1_to': 90,\n",
    " 'delay2_from': 120,\n",
    " 'delay2_to': 160,\n",
    " 'show_direction_for': 10,\n",
    " 'show_cue_for': 100,\n",
    " 'dim_input': 101,\n",
    " 'dim_output': 2,\n",
    " 'distractor_probability': 0.0}\n",
    "# fix delays at median values for analysis\n",
    "delay0 = (task_parameters['delay0_from'] + task_parameters['delay0_to']) / 2\n",
    "delay1 = (task_parameters['delay1_from'] + task_parameters['delay1_to']) / 2\n",
    "delay2 = (task_parameters['delay2_from'] + task_parameters['delay2_to']) / 2\n",
    "delay1 = task_parameters[\"delay1_to\"]  # max delay1 (to ensure convergence to final state for analysis)\n",
    "show_direction_for = task_parameters[\"show_direction_for\"]\n",
    "show_cue_for = task_parameters[\"show_cue_for\"]"
   ]
  },
  {
   "cell_type": "code",
   "execution_count": 20,
   "id": "6aabf9ad-d664-40df-8e7f-50d1d85b7494",
   "metadata": {},
   "outputs": [],
   "source": [
    "# Updated function to create and save the task progression animation with the specified order of events\n",
    "def create_task_progression_animation(delay0, delay1, delay2, show_direction_for, show_cue_for):\n",
    "    # Calculate the total time\n",
    "    total_time = 2 * show_direction_for + show_cue_for + delay0 + delay1 + delay2\n",
    "    \n",
    "    # Create figure and axis\n",
    "    fig, ax = plt.subplots(figsize=(10, 1))\n",
    "    ax.set_xlim(0, total_time)\n",
    "    ax.set_ylim(-.1, .1)\n",
    "    ax.axis('off')  # No axis for a cleaner look\n",
    "\n",
    "    # Colored patches for each interval\n",
    "    current_x = 0\n",
    "    patches = {}\n",
    "    patches['delay0'] = plt.Rectangle((current_x, 0), delay0, 1, fc='lightgray', label='delay0')\n",
    "    current_x += delay0\n",
    "    patches['show_direction_1'] = plt.Rectangle((current_x, 0), show_direction_for, 1, fc='green', label='show_direction_1')\n",
    "    current_x += show_direction_for\n",
    "    patches['delay1'] = plt.Rectangle((current_x, 0), delay1, 1, fc='lightgray', label='delay1')\n",
    "    current_x += delay1\n",
    "    patches['show_direction_2'] = plt.Rectangle((current_x, 0), show_direction_for, 1, fc='green', label='show_direction_2')\n",
    "    current_x += show_direction_for\n",
    "    patches['delay2'] = plt.Rectangle((current_x, 0), delay2, 1, fc='lightgray', label='delay2')\n",
    "    current_x += delay2\n",
    "    patches['show_cue'] = plt.Rectangle((current_x, 0), show_cue_for, 1, fc='red', label='show_cue')\n",
    "\n",
    "    # Add patches to the axis\n",
    "    for patch in patches.values():\n",
    "        ax.add_patch(patch)\n",
    "\n",
    "    # Add labels for delay names and intervals\n",
    "    # ax.text(delay0/2, 1.1, 'delay0', ha='center', va='bottom')\n",
    "    # ax.text(delay0 + show_direction_for/2, 1.1, 'show_direction', ha='center', va='bottom')\n",
    "    # ax.text(delay0 + show_direction_for + delay1/2, 1.1, 'delay1', ha='center', va='bottom')\n",
    "    # ax.text(delay0 + show_direction_for*1.5 + delay1, 1.1, 'show_direction', ha='center', va='bottom')\n",
    "    # ax.text(delay0 + show_direction_for*2 + delay1 + delay2/2, 1.1, 'delay2', ha='center', va='bottom')\n",
    "    # ax.text(total_time - show_cue_for/2, 1.1, 'show_cue', ha='center', va='bottom')\n",
    "\n",
    "    # Create pointer\n",
    "    pointer, = ax.plot([], [], lw=4, color='red')\n",
    "\n",
    "    # Initialize the pointer's position\n",
    "    def init():\n",
    "        pointer.set_data([], [])\n",
    "        return pointer,\n",
    "\n",
    "    # Update the pointer to the current frame/time\n",
    "    def animate(frame):\n",
    "        x = frame / 10.0\n",
    "        pointer.set_data([x, x], [-.1, 1.1])\n",
    "        return pointer,\n",
    "\n",
    "    # Creating the animation with the pointer\n",
    "    ani = animation.FuncAnimation(fig, animate, init_func=init, frames=int(total_time * 10), interval=100, blit=True)\n",
    "\n",
    "    # Save the new animation as an MP4 file with the pointer\n",
    "    mp4_file_with_pointer = 'task_progression_animation_with_corrected_order.mp4'\n",
    "    ani.save(mp4_file_with_pointer, writer='ffmpeg', fps=60)\n",
    "\n",
    "    return mp4_file_with_pointer  # Return the new file path for the user to download"
   ]
  },
  {
   "cell_type": "code",
   "execution_count": 21,
   "id": "80162cda-8ea8-4947-95ba-45f61df3cc20",
   "metadata": {},
   "outputs": [
    {
     "data": {
      "text/plain": [
       "'task_progression_animation_with_corrected_order.mp4'"
      ]
     },
     "execution_count": 21,
     "metadata": {},
     "output_type": "execute_result"
    },
    {
     "data": {
      "image/png": "[encoded data removed]",
      "text/plain": [
       "<Figure size 720x72 with 1 Axes>"
      ]
     },
     "metadata": {
      "needs_background": "light"
     },
     "output_type": "display_data"
    }
   ],
   "source": [
    "# Example usage of the function with dummy values\n",
    "mp4_file_with_pointer = create_task_progression_animation(\n",
    "    delay0, \n",
    "    delay1, \n",
    "    delay2, \n",
    "    show_direction_for, \n",
    "    show_cue_for\n",
    ")\n",
    "\n",
    "mp4_file_with_pointer  # Return the path to the created animation file"
   ]
  },
  {
   "cell_type": "code",
   "execution_count": 10,
   "id": "88a12c30-8eb7-4ef0-8abf-4c90bd3e6674",
   "metadata": {},
   "outputs": [],
   "source": [
    "# Updated function to ensure the MP4 video is not cut off\n",
    "def create_task_progression_animation(delay0, delay1, delay2, show_direction_for, show_cue_for):\n",
    "    show_cue_for = 0\n",
    "    \n",
    "    # Calculate the total time\n",
    "    total_time = 2 * show_direction_for + show_cue_for + delay0 + delay1 + delay2\n",
    "    \n",
    "    # Create figure and axis with a buffer space for labels\n",
    "    fig, ax = plt.subplots(figsize=(10, 1))\n",
    "    ax.set_xlim(0, total_time)\n",
    "    ax.set_ylim(0, 1)\n",
    "    #fig.subplots_adjust(top=0.8)  # Adjust the top space to make room for text labels\n",
    "    ax.axis('off')  # No axis for a cleaner look\n",
    "\n",
    "    # Define the patches with the correct intervals\n",
    "    patches = {\n",
    "        'delay0': plt.Rectangle((0, 0), delay0, 1, fc='lightgray', label='delay0'),\n",
    "        'show_direction_1': plt.Rectangle((delay0, 0), show_direction_for, 1, fc='grey', label='show_direction_1'),\n",
    "        'delay1': plt.Rectangle((delay0 + show_direction_for, 0), delay1, 1, fc='lightgray', label='delay1'),\n",
    "        'show_direction_2': plt.Rectangle((delay0 + show_direction_for + delay1, 0), show_direction_for, 1, fc='grey', label='show_direction_2'),\n",
    "        'delay2': plt.Rectangle((delay0 + show_direction_for * 2 + delay1, 0), delay2, 1, fc='lightgray', label='delay2'),\n",
    "        'show_cue': plt.Rectangle((delay0 + show_direction_for * 2 + delay1 + delay2, 0), show_cue_for, 1, fc='black', label='show_cue'),\n",
    "    }\n",
    "\n",
    "    # Add patches to the axis\n",
    "    for patch in patches.values():\n",
    "        ax.add_patch(patch)\n",
    "\n",
    "    # Add labels for delay names and intervals\n",
    "    # ax.text(delay0 / 2, 1.1, 'delay0', ha='center', va='bottom')\n",
    "    # ax.text(delay0 + show_direction_for / 2, 1.1, 'show_direction', ha='center', va='bottom')\n",
    "    # ax.text(delay0 + show_direction_for + delay1 / 2, 1.1, 'delay1', ha='center', va='bottom')\n",
    "    # ax.text(delay0 + show_direction_for * 1.5 + delay1, 1.1, 'show_direction', ha='center', va='bottom')\n",
    "    # ax.text(delay0 + show_direction_for * 2 + delay1 + delay2 / 2, 1.1, 'delay2', ha='center', va='bottom')\n",
    "    # ax.text(total_time - show_cue_for / 2, 1.1, 'show_cue', ha='center', va='bottom')\n",
    "\n",
    "    # Create pointer\n",
    "    pointer, = ax.plot([], [], lw=10, color='black')\n",
    "\n",
    "    # Initialize the pointer's position\n",
    "    def init():\n",
    "        pointer.set_data([], [])\n",
    "        return pointer,\n",
    "\n",
    "    # Update the pointer to the current frame/time\n",
    "    def animate(frame):\n",
    "        x = frame / 10.0\n",
    "        pointer.set_data([x, x], [0, 1])\n",
    "        return pointer,\n",
    "\n",
    "    # Creating the animation with the pointer\n",
    "    ani = animation.FuncAnimation(fig, animate, init_func=init, frames=int(total_time * 10), interval=100, blit=True)\n",
    "\n",
    "    # Save the new animation as an MP4 file with the pointer\n",
    "    # Apply tight_layout to adjust the spacing\n",
    "    fig.tight_layout()\n",
    "    mp4_file_with_pointer = 'task_progression_animation_with_corrected_order.mp4'\n",
    "    ani.save(mp4_file_with_pointer, writer='ffmpeg', fps=60, dpi=300, bitrate=1600, extra_args=['-vcodec', 'libx264', '-crf', '22'])\n",
    "\n",
    "    return mp4_file_with_pointer  # Return the new file path for the user to download"
   ]
  },
  {
   "cell_type": "code",
   "execution_count": 11,
   "id": "c696fd89-490f-4573-8802-145b3228661f",
   "metadata": {},
   "outputs": [
    {
     "data": {
      "text/plain": [
       "'task_progression_animation_with_corrected_order.mp4'"
      ]
     },
     "execution_count": 11,
     "metadata": {},
     "output_type": "execute_result"
    },
    {
     "data": {
      "image/png": "[encoded data removed]",
      "text/plain": [
       "<Figure size 720x72 with 1 Axes>"
      ]
     },
     "metadata": {
      "needs_background": "light"
     },
     "output_type": "display_data"
    }
   ],
   "source": [
    "# Example usage of the function with dummy values\n",
    "mp4_file_with_pointer = create_task_progression_animation(\n",
    "    delay0, \n",
    "    delay1, \n",
    "    delay2, \n",
    "    show_direction_for, \n",
    "    show_cue_for\n",
    ")\n",
    "\n",
    "mp4_file_with_pointer  # Return the path to the created animation file"
   ]
  },
  {
   "cell_type": "code",
   "execution_count": 12,
   "id": "56337c6c-a9d7-49dc-84e5-1468c2f0a20b",
   "metadata": {},
   "outputs": [
    {
     "data": {
      "image/png": "[encoded data removed]",
      "text/plain": [
       "<Figure size 720x72 with 1 Axes>"
      ]
     },
     "metadata": {
      "needs_background": "light"
     },
     "output_type": "display_data"
    }
   ],
   "source": [
    "def create_task_progression_animation(delay0, delay1, delay2, show_direction_for, show_cue_for):\n",
    "    show_cue_for = 0\n",
    "    \n",
    "    # Calculate the total time\n",
    "    total_time = 2 * show_direction_for + show_cue_for + delay0 + delay1 + delay2\n",
    "    \n",
    "    # Create figure and axis with a buffer space for labels\n",
    "    fig, ax = plt.subplots(figsize=(10, 1))\n",
    "    ax.set_xlim(0, total_time)\n",
    "    ax.set_ylim(0, 1)\n",
    "    #fig.subplots_adjust(top=0.8)  # Adjust the top space to make room for text labels\n",
    "    ax.axis('off')  # No axis for a cleaner look\n",
    "\n",
    "    # Define the patches with the correct intervals\n",
    "    patches = {\n",
    "        'delay0': plt.Rectangle((0, 0), delay0, 1, fc='lightgray', label='delay0'),\n",
    "        'show_direction_1': plt.Rectangle((delay0, 0), show_direction_for, 1, fc='grey', label='show_direction_1'),\n",
    "        'delay1': plt.Rectangle((delay0 + show_direction_for, 0), delay1, 1, fc='lightgray', label='delay1'),\n",
    "        'show_direction_2': plt.Rectangle((delay0 + show_direction_for + delay1, 0), show_direction_for, 1, fc='grey', label='show_direction_2'),\n",
    "        'delay2': plt.Rectangle((delay0 + show_direction_for * 2 + delay1, 0), delay2, 1, fc='lightgray', label='delay2'),\n",
    "        'show_cue': plt.Rectangle((delay0 + show_direction_for * 2 + delay1 + delay2, 0), show_cue_for, 1, fc='black', label='show_cue'),\n",
    "    }\n",
    "\n",
    "    # Add patches to the axis\n",
    "    for patch in patches.values():\n",
    "        ax.add_patch(patch)\n",
    "\n",
    "    # Add labels for delay names and intervals\n",
    "    # ax.text(delay0 / 2, 1.1, 'delay0', ha='center', va='bottom')\n",
    "    # ax.text(delay0 + show_direction_for / 2, 1.1, 'show_direction', ha='center', va='bottom')\n",
    "    # ax.text(delay0 + show_direction_for + delay1 / 2, 1.1, 'delay1', ha='center', va='bottom')\n",
    "    # ax.text(delay0 + show_direction_for * 1.5 + delay1, 1.1, 'show_direction', ha='center', va='bottom')\n",
    "    # ax.text(delay0 + show_direction_for * 2 + delay1 + delay2 / 2, 1.1, 'delay2', ha='center', va='bottom')\n",
    "    # ax.text(total_time - show_cue_for / 2, 1.1, 'show_cue', ha='center', va='bottom')\n",
    "\n",
    "    # Create pointer\n",
    "    pointer, = ax.plot([], [], lw=10, color='black')\n",
    "\n",
    "    # Initialize the pointer's position\n",
    "    def init():\n",
    "        pointer.set_data([], [])\n",
    "        return pointer,\n",
    "\n",
    "    # Update the pointer to the current frame/time\n",
    "    def animate(frame):\n",
    "        x = frame / 10.0\n",
    "        pointer.set_data([x, x], [0, 1])\n",
    "        return pointer,\n",
    "\n",
    "    # Creating the animation with the pointer\n",
    "    ani = animation.FuncAnimation(fig, animate, init_func=init, frames=int(total_time * 10), interval=100, blit=True)\n",
    "\n",
    "    # Save the new animation as an MP4 file with the pointer\n",
    "    # Apply tight_layout to adjust the spacing\n",
    "    fig.tight_layout()\n",
    "    mp4_file_with_pointer = 'task_progression_animation_with_corrected_order.mp4'\n",
    "    ani.save(mp4_file_with_pointer, writer='ffmpeg', fps=60, dpi=300, bitrate=1600, extra_args=['-vcodec', 'libx264', '-crf', '22'])\n",
    "\n",
    "    return mp4_file_with_pointer  # Return the new file path for the user to download\n",
    "\n",
    "mp4_file_with_pointer = create_task_progression_animation(\n",
    "    delay0, \n",
    "    delay1, \n",
    "    delay2, \n",
    "    show_direction_for, \n",
    "    show_cue_for\n",
    ")"
   ]
  },
  {
   "cell_type": "code",
   "execution_count": null,
   "id": "58562127-4bd8-4fcd-9207-8339f5bcf29c",
   "metadata": {},
   "outputs": [],
   "source": []
  }
 ],
 "metadata": {
  "kernelspec": {
   "display_name": "Python 3 (ipykernel)",
   "language": "python",
   "name": "python3"
  },
  "language_info": {
   "codemirror_mode": {
    "name": "ipython",
    "version": 3
   },
   "file_extension": ".py",
   "mimetype": "text/x-python",
   "name": "python",
   "nbconvert_exporter": "python",
   "pygments_lexer": "ipython3",
   "version": "3.9.7"
  }
 },
 "nbformat": 4,
 "nbformat_minor": 5
}
